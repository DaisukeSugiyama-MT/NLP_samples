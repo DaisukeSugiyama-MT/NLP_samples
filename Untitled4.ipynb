{
  "nbformat": 4,
  "nbformat_minor": 0,
  "metadata": {
    "colab": {
      "name": "Untitled4.ipynb",
      "provenance": [],
      "authorship_tag": "ABX9TyNjw4GqHGSLk2U084q3jsXD",
      "include_colab_link": true
    },
    "kernelspec": {
      "name": "python3",
      "display_name": "Python 3"
    },
    "language_info": {
      "name": "python"
    }
  },
  "cells": [
    {
      "cell_type": "markdown",
      "metadata": {
        "id": "view-in-github",
        "colab_type": "text"
      },
      "source": [
        "<a href=\"https://colab.research.google.com/github/DaisukeSugiyama-MT/NLP_samples/blob/main/Untitled4.ipynb\" target=\"_parent\"><img src=\"https://colab.research.google.com/assets/colab-badge.svg\" alt=\"Open In Colab\"/></a>"
      ]
    },
    {
      "cell_type": "code",
      "execution_count": 1,
      "metadata": {
        "colab": {
          "base_uri": "https://localhost:8080/"
        },
        "id": "llUdnGBPap-7",
        "outputId": "48427119-41fc-4c64-b405-24bd73a786a1"
      },
      "outputs": [
        {
          "output_type": "stream",
          "name": "stdout",
          "text": [
            "Looking in indexes: https://pypi.org/simple, https://us-python.pkg.dev/colab-wheels/public/simple/\n",
            "Collecting janome\n",
            "  Downloading Janome-0.4.2-py2.py3-none-any.whl (19.7 MB)\n",
            "\u001b[K     |████████████████████████████████| 19.7 MB 1.4 MB/s \n",
            "\u001b[?25hInstalling collected packages: janome\n",
            "Successfully installed janome-0.4.2\n"
          ]
        }
      ],
      "source": [
        "!pip install janome"
      ]
    },
    {
      "cell_type": "code",
      "source": [
        "from janome.tokenizer import Tokenizer\n",
        "\n",
        "tokenizer = Tokenizer()\n",
        "\n",
        "def extract_words(text):\n",
        "  tokens = tokenizer.tokenize(text)\n",
        "  return [token.base_form for token in tokens\n",
        "          if token.part_of_speech.split(',')[0] in['名詞','動詞','形容詞']]\n",
        "\n",
        "sampletext = u\"劉備と関羽と張飛の三人は桃園で義兄弟の契りを結んだ\"\n",
        "print(extract_words(sampletext))"
      ],
      "metadata": {
        "colab": {
          "base_uri": "https://localhost:8080/"
        },
        "id": "FO0CVEUMa2Iv",
        "outputId": "46b379da-5cad-483d-8b3a-7334d1ef5163"
      },
      "execution_count": 14,
      "outputs": [
        {
          "output_type": "stream",
          "name": "stdout",
          "text": [
            "['劉', '備', '関', '羽', '張', '飛', '三', '人', '桃園', '義兄弟', '契り', '結ぶ']\n"
          ]
        }
      ]
    },
    {
      "cell_type": "code",
      "source": [
        "from google.colab import drive\n",
        "drive.mount('/content/drive')"
      ],
      "metadata": {
        "colab": {
          "base_uri": "https://localhost:8080/"
        },
        "id": "GimofPIWcHAm",
        "outputId": "f7d97895-47ea-403e-a2eb-9180360e4d2d"
      },
      "execution_count": 4,
      "outputs": [
        {
          "output_type": "stream",
          "name": "stdout",
          "text": [
            "Mounted at /content/drive\n"
          ]
        }
      ]
    },
    {
      "cell_type": "code",
      "source": [
        "from typing import ClassVar\n",
        "!mkdir -p /content/drive/MyDrive/KITERETU\n",
        "\n",
        "!curl -o /content/drive/MyDrive/KITERETU/sangokusi_jinbutu_list.csv https://storage.googleapis.com/nlp_youwht/san/sangokusi_jinbutu_list.csv\n",
        "\n",
        "!head \"/content/drive/MyDrive/KITERETU/sangokusi_jinbutu_list.csv\""
      ],
      "metadata": {
        "colab": {
          "base_uri": "https://localhost:8080/"
        },
        "id": "8Gba-8kkcX6R",
        "outputId": "c4f301f0-ed90-4f95-ce98-772286cccbb5"
      },
      "execution_count": 6,
      "outputs": [
        {
          "output_type": "stream",
          "name": "stdout",
          "text": [
            "  % Total    % Received % Xferd  Average Speed   Time    Time     Time  Current\n",
            "                                 Dload  Upload   Total   Spent    Left  Speed\n",
            "100 27008  100 27008    0     0  95434      0 --:--:-- --:--:-- --:--:-- 95773\n",
            "阿会喃\n",
            "阿貴\n",
            "阿羅槃\n",
            "阿騖\n",
            "逢紀\n",
            "伊夷模\n",
            "伊健妓妾\n",
            "伊声耆\n",
            "伊籍\n",
            "位宮\n"
          ]
        }
      ]
    },
    {
      "cell_type": "code",
      "source": [
        "import codecs\n",
        "def getKeyWordList(input_file_path):\n",
        "  input_file = codecs.open(input_file_path,'r','utf-8')\n",
        "  line_list = input_file.readlines()\n",
        "  return [line.strip() for line in line_list]\n",
        "\n",
        "keyword_list = getKeyWordList('/content/drive/MyDrive/KITERETU/sangokusi_jinbutu_list.csv')\n",
        "\n",
        "userdict_str = \"\"\n",
        "\n",
        "for keyword in keyword_list:\n",
        "  userdict_one_str = keyword + \",-1,-1,-5000,名詞,一般,*,*,*,*,\" + keyword + \",*,*\"\n",
        "  userdict_str += userdict_one_str+\"\\n\"\n",
        "\n",
        "with open(\"/content/drive/MyDrive/KITERETU/sangokusi_userdic.csv\",\"w\",encoding=\"utf8\") as f :\n",
        "  f.write(userdict_str)"
      ],
      "metadata": {
        "id": "c6poBUpHdAvz"
      },
      "execution_count": 13,
      "outputs": []
    },
    {
      "cell_type": "code",
      "source": [
        "from janome.tokenizer import Tokenizer\n",
        "\n",
        "tokenizer = Tokenizer('/content/drive/MyDrive/KITERETU/sangokusi_userdic.csv',udic_enc='utf8')\n",
        "\n",
        "def extract_words(text):\n",
        "  tokens = tokenizer.tokenize(text)\n",
        "  return [token.base_form for token in tokens if token.part_of_speech.split(',')[0] in ['名詞','動詞','形容詞']]\n",
        "\n",
        "sampletext = u\"劉備と関羽と張飛の三人は桃園で義兄弟の契りを結んだ\"\n",
        "print(extract_words(sampletext))"
      ],
      "metadata": {
        "colab": {
          "base_uri": "https://localhost:8080/"
        },
        "id": "n6NH5xYZevA6",
        "outputId": "caf87980-15e8-4b3d-d21a-1d9e133d3c76"
      },
      "execution_count": 16,
      "outputs": [
        {
          "output_type": "stream",
          "name": "stdout",
          "text": [
            "['劉備', '関羽', '張飛', 'の', '三', '人', '桃園', '義兄弟', '契り', '結ぶ']\n"
          ]
        }
      ]
    }
  ]
}